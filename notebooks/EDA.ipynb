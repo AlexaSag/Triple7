{
 "cells": [
  {
   "cell_type": "code",
   "execution_count": null,
   "metadata": {},
   "outputs": [
    {
     "ename": "",
     "evalue": "",
     "output_type": "error",
     "traceback": [
      "\u001b[1;31mRunning cells with 'Python 3.13.3' requires the ipykernel package.\n",
      "\u001b[1;31mRun the following command to install 'ipykernel' into the Python environment. \n",
      "\u001b[1;31mCommand: '/usr/local/bin/python3 -m pip install ipykernel -U --user --force-reinstall'"
     ]
    }
   ],
   "source": [
    "import pandas as pd\n",
    "import plotly.express as px\n",
    "import streamlit as st\n",
    "\n",
    "car_data = pd.read_csv(\"/Users/alex1/Desktop/triple/proyecto7/notebooks/vehicles_us.csv\")\n",
    "fig = px.histogram(car_data, x=\"odometer\") # crear un histograma\n",
    "fig.show()\n",
    "\n",
    "\n",
    "st.header(\"Análisis de Datos de Anuncios de Venta de Coches\")\n",
    "\n",
    "hist_button = st.button('Construir histograma')\n",
    "\n",
    "if hist_button:\n",
    "    st.write('Creación de un histograma para la columna \"odometer\" (Kilometraje)')\n",
    "\n",
    "    # Crear un histograma con plotly express\n",
    "    fig = px.histogram(car_data, x=\"odometer\", title=\"Histograma de Kilometraje\")\n",
    "    \n",
    "    # Mostrar el gráfico interactivo en Streamlit\n",
    "    st.plotly_chart(fig, use_container_width=True)\n",
    "  \n",
    "    # Crear un botón para generar el gráfico de dispersión\n",
    "scatter_button = st.button('Construir gráfico de dispersión')\n",
    "\n",
    "if scatter_button:\n",
    "    st.write('Creación de un gráfico de dispersión para la relación entre \"year\" y \"price\"')\n",
    "\n",
    "    # Crear un gráfico de dispersión\n",
    "    fig = px.scatter(car_data, x=\"year\", y=\"price\", title=\"Relación entre Año y Precio\")\n",
    "    \n",
    "    # Mostrar el gráfico interactivo en Streamlit\n",
    "    st.plotly_chart(fig, use_container_width=True)\n",
    "\n",
    "    # Crear una casilla de verificación para construir un histograma\n",
    "build_histogram = st.checkbox('Construir un histograma')\n",
    "\n",
    "if build_histogram:\n",
    "    st.write('Construir un histograma para la columna \"odometer\"')\n",
    "\n",
    "    # Crear un histograma con plotly express\n",
    "    fig = px.histogram(car_data, x=\"odometer\", title=\"Histograma de Kilometraje\")\n",
    "    \n",
    "    # Mostrar el gráfico interactivo en Streamlit\n",
    "    st.plotly_chart(fig, use_container_width=True)\n",
    "\n",
    "# Crear una casilla de verificación para construir un gráfico de dispersión\n",
    "build_scatter = st.checkbox('Construir un gráfico de dispersión')\n",
    "\n",
    "if build_scatter:\n",
    "    st.write('Creación de un gráfico de dispersión para la relación entre \"year\" y \"price\"')\n",
    "\n",
    "    # Crear un gráfico de dispersión\n",
    "    fig = px.scatter(car_data, x=\"year\", y=\"price\", title=\"Relación entre Año y Precio\")\n",
    "    \n",
    "    # Mostrar el gráfico interactivo en Streamlit\n",
    "    st.plotly_chart(fig, use_container_width=True)\n",
    "\n",
    "    [server]\n",
    "headless = True\n",
    "port = 10000"
   ]
  }
 ],
 "metadata": {
  "kernelspec": {
   "display_name": "Python 3",
   "language": "python",
   "name": "python3"
  },
  "language_info": {
   "name": "python",
   "version": "3.13.3"
  }
 },
 "nbformat": 4,
 "nbformat_minor": 2
}
